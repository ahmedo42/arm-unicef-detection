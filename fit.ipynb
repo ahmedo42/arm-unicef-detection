{
 "cells": [
  {
   "cell_type": "code",
   "execution_count": 1,
   "metadata": {},
   "outputs": [],
   "source": [
    "dataset_path = \"\"\n",
    "RS = 42"
   ]
  },
  {
   "cell_type": "code",
   "execution_count": 17,
   "metadata": {},
   "outputs": [],
   "source": [
    "import pandas as  pd\n",
    "\n",
    "train_df = pd.read_csv(f\"{dataset_path}/Train.csv\")\n",
    "test_df = pd.read_csv(f\"{dataset_path}/Test.csv\")\n",
    "ss = pd.read_csv(f\"{dataset_path}/SampleSubmission.csv\")"
   ]
  },
  {
   "cell_type": "code",
   "execution_count": 18,
   "metadata": {},
   "outputs": [],
   "source": [
    "train_df.fillna(0,inplace=True)\n",
    "train_df['category_id'] = train_df['category_id'].map(int)"
   ]
  },
  {
   "cell_type": "code",
   "execution_count": 19,
   "metadata": {},
   "outputs": [],
   "source": [
    "from data_utils import convert_to_yolo_bboxes\n",
    "\n",
    "train_df['bbox'] = convert_to_yolo_bboxes(train_df['image_id'],train_df['bbox'])"
   ]
  },
  {
   "cell_type": "code",
   "execution_count": null,
   "metadata": {},
   "outputs": [],
   "source": [
    "from data_utils import setup_experiment \n",
    "yamls = setup_experiment(train_df,dataset_path + '/Images',exp_type='FIT')"
   ]
  },
  {
   "cell_type": "code",
   "execution_count": null,
   "metadata": {},
   "outputs": [],
   "source": [
    "from ultralytics import YOLO\n",
    "results = {}\n",
    "batch = 16\n",
    "epochs = 100\n",
    "model = YOLO('yolov8n', task=\"detect\")\n"
   ]
  },
  {
   "cell_type": "code",
   "execution_count": null,
   "metadata": {},
   "outputs": [],
   "source": [
    "for k in range(len(yamls)):\n",
    "    dataset_yaml = yamls[k]\n",
    "    model.train(data=dataset_yaml, epochs=epochs, batch=batch) \n",
    "    results[k] = model.metrics "
   ]
  },
  {
   "cell_type": "code",
   "execution_count": null,
   "metadata": {},
   "outputs": [],
   "source": [
    "results"
   ]
  }
 ],
 "metadata": {
  "kernelspec": {
   "display_name": "vision",
   "language": "python",
   "name": "python3"
  },
  "language_info": {
   "codemirror_mode": {
    "name": "ipython",
    "version": 3
   },
   "file_extension": ".py",
   "mimetype": "text/x-python",
   "name": "python",
   "nbconvert_exporter": "python",
   "pygments_lexer": "ipython3",
   "version": "3.10.12"
  }
 },
 "nbformat": 4,
 "nbformat_minor": 2
}
